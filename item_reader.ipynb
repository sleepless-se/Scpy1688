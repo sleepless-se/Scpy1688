{
 "cells": [
  {
   "cell_type": "code",
   "execution_count": 1,
   "metadata": {
    "collapsed": true
   },
   "outputs": [],
   "source": [
    "import lxml.html\n",
    "from selenium import webdriver\n",
    "import requests\n",
    "import time\n",
    "# -*- coding: utf-8 -*-\n"
   ]
  },
  {
   "cell_type": "code",
   "execution_count": 2,
   "metadata": {
    "collapsed": false
   },
   "outputs": [],
   "source": [
    "def findItemUrl(url):\n",
    "#     target_url = \"https://s.1688.com/selloffer/-CAD6CCE1B0FC.html?priceStart=40&cps=1&n=y&priceEnd=70&filt=y&uniqfield=pic_tag_id\"\n",
    "    target_html = requests.get(target_url).text\n",
    "    root = lxml.html.fromstring(target_html)\n",
    "    tags = root.body.xpath(\"//link[@rel='canonical']\")\n",
    "    for i in range(len(tags)):\n",
    "        tag = tags[i].attrib['href']\n",
    "        print(\"Changed:\"+tag)\n",
    "        return tag\n",
    "      "
   ]
  },
  {
   "cell_type": "code",
   "execution_count": 3,
   "metadata": {
    "collapsed": true
   },
   "outputs": [],
   "source": [
    "def toId(url):\n",
    "    start = tag.find(\"offer\")+6\n",
    "    end = tag.find(\".html\")\n",
    "    id = tag[start:end]\n",
    "    print (id)\n",
    "    return id"
   ]
  },
  {
   "cell_type": "code",
   "execution_count": null,
   "metadata": {
    "collapsed": true
   },
   "outputs": [],
   "source": [
    "def loadHtml(url):\n",
    "    driver.get(target_url)\n",
    "    print (\"Loading\",end=\"\")\n",
    "    for i in range(10):\n",
    "        print(\".\", end=\"\")\n",
    "        time.sleep(3)\n",
    "        driver.execute_script(\"window.scrollTo(0, document.body.scrollHeight);\")\n",
    "    print(\"\")\n",
    "    return driver.page_source"
   ]
  },
  {
   "cell_type": "code",
   "execution_count": 16,
   "metadata": {
    "collapsed": false
   },
   "outputs": [
    {
     "name": "stdout",
     "output_type": "stream",
     "text": [
      "Loading..........\n"
     ]
    }
   ],
   "source": [
    "if __name__ == '__main__':\n",
    "    target_url = 'https://s.1688.com/selloffer/-CAD6CCE1B0FC.html?cps=1&n=y&feature=87850&uniqfield=pic_tag_id'\n",
    "    driver = webdriver.PhantomJS()\n",
    "    target_html = loadHtml(target_url)"
   ]
  },
  {
   "cell_type": "code",
   "execution_count": 17,
   "metadata": {
    "collapsed": false
   },
   "outputs": [
    {
     "name": "stdout",
     "output_type": "stream",
     "text": [
      "36\n",
      "http://www.1688.com/\n",
      "https://view.1688.com/cms/mro/telescope.html?refid=26945&tracelog=20170404_LOGIN_1688_MAIN_1\n",
      "javascript:;\n",
      "https://shili.1688.com/\n",
      "https://3g.1688.com/?tracelog=wireless_signin\n",
      "http://ur.taobao.com//survey/view.htm?id=1712\n",
      "//rule.1688.com/policy/copyright.html\n",
      "//rule.1688.com/policy/legal.html\n",
      "//rule.1688.com/policy/terms.htm\n",
      "//rule.1688.com/policy/privacy.html\n",
      "//page.1688.com/shtml/about/ali_group1.shtml\n",
      "//114.1688.com/kf/contact.html?tracelog=kf_2012_budian_allcontact\n",
      "//114.1688.com/sitemap.html\n",
      "http://www.alibabagroup.com/cn/global/home\n",
      "//www.alibaba.com/\n",
      "//www.1688.com/\n",
      "http://mai.aliexpress.com/\n",
      "//www.taobao.com/\n",
      "//www.tmall.com/\n",
      "//ju.taobao.com/\n",
      "http://www.etao.com/\n",
      "//www.alitrip.com/\n",
      "http://www.alimama.com/\n",
      "http://www.xiami.com/\n",
      "//www.aliyun.com/\n",
      "//www.yunos.com/\n",
      "//aliqin.tmall.com/\n",
      "//www.net.cn/\n",
      "http://www.uc.cn/\n",
      "//www.alipay.com/\n",
      "https://www.laiwang.com/\n",
      "http://www.dingtalk.com/?lwfrom=20150130161950940\n",
      "http://www.alihealth.cn/\n",
      "//onetouch.alibaba.com\n"
     ]
    },
    {
     "ename": "KeyError",
     "evalue": "'href'",
     "output_type": "error",
     "traceback": [
      "\u001b[0;31m---------------------------------------------------------------------------\u001b[0m",
      "\u001b[0;31mKeyError\u001b[0m                                  Traceback (most recent call last)",
      "\u001b[0;32m<ipython-input-17-5d358e731286>\u001b[0m in \u001b[0;36m<module>\u001b[0;34m()\u001b[0m\n\u001b[1;32m      5\u001b[0m \u001b[0;32mfor\u001b[0m \u001b[0mi\u001b[0m \u001b[0;32min\u001b[0m \u001b[0mrange\u001b[0m\u001b[0;34m(\u001b[0m\u001b[0mlen\u001b[0m\u001b[0;34m(\u001b[0m\u001b[0mlinks\u001b[0m\u001b[0;34m)\u001b[0m\u001b[0;34m)\u001b[0m\u001b[0;34m:\u001b[0m\u001b[0;34m\u001b[0m\u001b[0m\n\u001b[1;32m      6\u001b[0m     \u001b[0mlink\u001b[0m \u001b[0;34m=\u001b[0m \u001b[0mlinks\u001b[0m\u001b[0;34m[\u001b[0m\u001b[0mi\u001b[0m\u001b[0;34m]\u001b[0m\u001b[0;34m\u001b[0m\u001b[0m\n\u001b[0;32m----> 7\u001b[0;31m     \u001b[0murl\u001b[0m \u001b[0;34m=\u001b[0m \u001b[0mlink\u001b[0m\u001b[0;34m.\u001b[0m\u001b[0mattrib\u001b[0m\u001b[0;34m[\u001b[0m\u001b[0;34m\"href\"\u001b[0m\u001b[0;34m]\u001b[0m\u001b[0;34m\u001b[0m\u001b[0m\n\u001b[0m\u001b[1;32m      8\u001b[0m     \u001b[0mprint\u001b[0m\u001b[0;34m(\u001b[0m\u001b[0murl\u001b[0m\u001b[0;34m)\u001b[0m\u001b[0;34m\u001b[0m\u001b[0m\n\u001b[1;32m      9\u001b[0m     \u001b[0;32mif\u001b[0m \u001b[0murl\u001b[0m\u001b[0;34m.\u001b[0m\u001b[0mcount\u001b[0m\u001b[0;34m(\u001b[0m\u001b[0;34m\"ci_\"\u001b[0m\u001b[0;34m)\u001b[0m \u001b[0;32mor\u001b[0m \u001b[0murl\u001b[0m\u001b[0;34m.\u001b[0m\u001b[0mcount\u001b[0m\u001b[0;34m(\u001b[0m\u001b[0;34m'/offer/'\u001b[0m\u001b[0;34m)\u001b[0m\u001b[0;34m:\u001b[0m\u001b[0;34m\u001b[0m\u001b[0m\n",
      "\u001b[0;32msrc/lxml/lxml.etree.pyx\u001b[0m in \u001b[0;36mlxml.etree._Attrib.__getitem__ (src/lxml/lxml.etree.c:70080)\u001b[0;34m()\u001b[0m\n",
      "\u001b[0;31mKeyError\u001b[0m: 'href'"
     ]
    }
   ],
   "source": [
    "    root = lxml.html.fromstring(target_html)\n",
    "    links = root.body.xpath(\"//a\")\n",
    "    print(len(links))\n",
    "    s = set([])\n",
    "    for i in range(len(links)):\n",
    "        link = links[i]\n",
    "        url = link.attrib[\"href\"]\n",
    "        print(url)\n",
    "        if url.count(\"ci_\") or url.count('/offer/'):\n",
    "            if len(url) > 50:\n",
    "                url = findItemUrl(url)\n",
    "                time.sleep(1)\n",
    "            s.add(url)\n",
    "            print (url)\n",
    "\n",
    "    print(len(s))\n"
   ]
  },
  {
   "cell_type": "code",
   "execution_count": null,
   "metadata": {
    "collapsed": true
   },
   "outputs": [],
   "source": []
  }
 ],
 "metadata": {
  "kernelspec": {
   "display_name": "Python 3",
   "language": "python",
   "name": "python3"
  },
  "language_info": {
   "codemirror_mode": {
    "name": "ipython",
    "version": 3
   },
   "file_extension": ".py",
   "mimetype": "text/x-python",
   "name": "python",
   "nbconvert_exporter": "python",
   "pygments_lexer": "ipython3",
   "version": "3.5.0"
  }
 },
 "nbformat": 4,
 "nbformat_minor": 1
}
